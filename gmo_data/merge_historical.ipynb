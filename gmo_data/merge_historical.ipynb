{
 "cells": [
  {
   "cell_type": "code",
   "execution_count": 2,
   "metadata": {},
   "outputs": [
    {
     "name": "stdout",
     "output_type": "stream",
     "text": [
      "1805\n",
      "['20180905_BTC.csv', '20180906_BTC.csv', '20180907_BTC.csv', '20180908_BTC.csv', '20180909_BTC.csv', '20180910_BTC.csv', '20180911_BTC.csv', '20180912_BTC.csv', '20180913_BTC.csv', '20180914_BTC.csv']\n"
     ]
    }
   ],
   "source": [
    "import os\n",
    "\n",
    "hist_list = os.listdir(r\"H:\\マイドライブ\\pytest\\virtual_currency\\gmo\\gmo_data\\historical_data\")\n",
    "print(len(hist_list))\n",
    "print(hist_list[:10])\n"
   ]
  },
  {
   "cell_type": "code",
   "execution_count": 19,
   "metadata": {},
   "outputs": [
    {
     "name": "stdout",
     "output_type": "stream",
     "text": [
      "  symbol  side    size     price                timestamp\n",
      "0    BTC  SELL  0.0001  817965.0  2018-09-05 08:05:37.645\n",
      "1    BTC  SELL  0.0099  816878.0  2018-09-05 08:05:37.645\n",
      "2    BTC  SELL  0.0100  818000.0  2018-09-05 08:56:28.401\n",
      "3    BTC   BUY  0.0100  818110.0  2018-09-05 09:00:28.462\n",
      "4    BTC  SELL  0.0001  818105.0  2018-09-05 09:00:40.738\n"
     ]
    }
   ],
   "source": [
    "import pandas as pd\n",
    "import os\n",
    "\n",
    "# ディレクトリのパスを指定\n",
    "directory_path = r\"H:\\マイドライブ\\pytest\\virtual_currency\\gmo\\gmo_data\\historical_data\"\n",
    "hist_list = os.listdir(directory_path)\n",
    "\n",
    "# 各ファイルを読み込んで、一つのDataFrameに結合する関数\n",
    "def combine_csv_files(file_list, dir_path):\n",
    "    all_data = []\n",
    "    for file_name in file_list:\n",
    "        file_path = os.path.join(dir_path, file_name)\n",
    "        df = pd.read_csv(file_path)\n",
    "        all_data.append(df)\n",
    "    combined_df = pd.concat(all_data, ignore_index=True)\n",
    "    return combined_df\n",
    "\n",
    "# ファイルリストを使用して、CSVファイルを結合\n",
    "combined_dataframe = combine_csv_files(hist_list, directory_path)\n",
    "print(combined_dataframe.head())  # 結合したDataFrameの最初の5行を表示"
   ]
  },
  {
   "cell_type": "code",
   "execution_count": 20,
   "metadata": {},
   "outputs": [],
   "source": [
    "combined_dataframe.to_csv('BTC.csv', index = False)"
   ]
  },
  {
   "cell_type": "code",
   "execution_count": 45,
   "metadata": {},
   "outputs": [
    {
     "data": {
      "text/html": [
       "<div>\n",
       "<style scoped>\n",
       "    .dataframe tbody tr th:only-of-type {\n",
       "        vertical-align: middle;\n",
       "    }\n",
       "\n",
       "    .dataframe tbody tr th {\n",
       "        vertical-align: top;\n",
       "    }\n",
       "\n",
       "    .dataframe thead th {\n",
       "        text-align: right;\n",
       "    }\n",
       "</style>\n",
       "<table border=\"1\" class=\"dataframe\">\n",
       "  <thead>\n",
       "    <tr style=\"text-align: right;\">\n",
       "      <th></th>\n",
       "      <th>symbol</th>\n",
       "      <th>side</th>\n",
       "      <th>size</th>\n",
       "      <th>price</th>\n",
       "      <th>timestamp</th>\n",
       "    </tr>\n",
       "  </thead>\n",
       "  <tbody>\n",
       "    <tr>\n",
       "      <th>0</th>\n",
       "      <td>BTC</td>\n",
       "      <td>BUY</td>\n",
       "      <td>0.0001</td>\n",
       "      <td>5327120.0</td>\n",
       "      <td>2022-01-01 00:00:06.980</td>\n",
       "    </tr>\n",
       "    <tr>\n",
       "      <th>1</th>\n",
       "      <td>BTC</td>\n",
       "      <td>BUY</td>\n",
       "      <td>0.0001</td>\n",
       "      <td>5327040.0</td>\n",
       "      <td>2022-01-01 00:00:37.674</td>\n",
       "    </tr>\n",
       "    <tr>\n",
       "      <th>2</th>\n",
       "      <td>BTC</td>\n",
       "      <td>BUY</td>\n",
       "      <td>0.0001</td>\n",
       "      <td>5330760.0</td>\n",
       "      <td>2022-01-01 00:02:00.326</td>\n",
       "    </tr>\n",
       "    <tr>\n",
       "      <th>3</th>\n",
       "      <td>BTC</td>\n",
       "      <td>BUY</td>\n",
       "      <td>0.0001</td>\n",
       "      <td>5330760.0</td>\n",
       "      <td>2022-01-01 00:02:00.588</td>\n",
       "    </tr>\n",
       "    <tr>\n",
       "      <th>4</th>\n",
       "      <td>BTC</td>\n",
       "      <td>BUY</td>\n",
       "      <td>0.0007</td>\n",
       "      <td>5330760.0</td>\n",
       "      <td>2022-01-01 00:02:02.152</td>\n",
       "    </tr>\n",
       "  </tbody>\n",
       "</table>\n",
       "</div>"
      ],
      "text/plain": [
       "  symbol side    size      price                timestamp\n",
       "0    BTC  BUY  0.0001  5327120.0  2022-01-01 00:00:06.980\n",
       "1    BTC  BUY  0.0001  5327040.0  2022-01-01 00:00:37.674\n",
       "2    BTC  BUY  0.0001  5330760.0  2022-01-01 00:02:00.326\n",
       "3    BTC  BUY  0.0001  5330760.0  2022-01-01 00:02:00.588\n",
       "4    BTC  BUY  0.0007  5330760.0  2022-01-01 00:02:02.152"
      ]
     },
     "execution_count": 45,
     "metadata": {},
     "output_type": "execute_result"
    }
   ],
   "source": [
    "import pandas as pd\n",
    "\n",
    "combined_dataframe = pd.read_csv('BTC_2022.csv')\n",
    "combined_dataframe.shape\n",
    "combined_dataframe.head()"
   ]
  },
  {
   "cell_type": "code",
   "execution_count": 46,
   "metadata": {},
   "outputs": [],
   "source": [
    "# 'timestamp'カラムから年を抽出して、新しいカラム'year'を作成\n",
    "combined_dataframe['month'] = pd.to_datetime(combined_dataframe['timestamp']).dt.month"
   ]
  },
  {
   "cell_type": "code",
   "execution_count": 47,
   "metadata": {},
   "outputs": [
    {
     "data": {
      "text/html": [
       "<div>\n",
       "<style scoped>\n",
       "    .dataframe tbody tr th:only-of-type {\n",
       "        vertical-align: middle;\n",
       "    }\n",
       "\n",
       "    .dataframe tbody tr th {\n",
       "        vertical-align: top;\n",
       "    }\n",
       "\n",
       "    .dataframe thead th {\n",
       "        text-align: right;\n",
       "    }\n",
       "</style>\n",
       "<table border=\"1\" class=\"dataframe\">\n",
       "  <thead>\n",
       "    <tr style=\"text-align: right;\">\n",
       "      <th></th>\n",
       "      <th>symbol</th>\n",
       "      <th>side</th>\n",
       "      <th>size</th>\n",
       "      <th>price</th>\n",
       "      <th>timestamp</th>\n",
       "      <th>month</th>\n",
       "    </tr>\n",
       "  </thead>\n",
       "  <tbody>\n",
       "    <tr>\n",
       "      <th>0</th>\n",
       "      <td>BTC</td>\n",
       "      <td>BUY</td>\n",
       "      <td>0.0001</td>\n",
       "      <td>5327120.0</td>\n",
       "      <td>2022-01-01 00:00:06.980</td>\n",
       "      <td>1</td>\n",
       "    </tr>\n",
       "    <tr>\n",
       "      <th>1</th>\n",
       "      <td>BTC</td>\n",
       "      <td>BUY</td>\n",
       "      <td>0.0001</td>\n",
       "      <td>5327040.0</td>\n",
       "      <td>2022-01-01 00:00:37.674</td>\n",
       "      <td>1</td>\n",
       "    </tr>\n",
       "    <tr>\n",
       "      <th>2</th>\n",
       "      <td>BTC</td>\n",
       "      <td>BUY</td>\n",
       "      <td>0.0001</td>\n",
       "      <td>5330760.0</td>\n",
       "      <td>2022-01-01 00:02:00.326</td>\n",
       "      <td>1</td>\n",
       "    </tr>\n",
       "    <tr>\n",
       "      <th>3</th>\n",
       "      <td>BTC</td>\n",
       "      <td>BUY</td>\n",
       "      <td>0.0001</td>\n",
       "      <td>5330760.0</td>\n",
       "      <td>2022-01-01 00:02:00.588</td>\n",
       "      <td>1</td>\n",
       "    </tr>\n",
       "    <tr>\n",
       "      <th>4</th>\n",
       "      <td>BTC</td>\n",
       "      <td>BUY</td>\n",
       "      <td>0.0007</td>\n",
       "      <td>5330760.0</td>\n",
       "      <td>2022-01-01 00:02:02.152</td>\n",
       "      <td>1</td>\n",
       "    </tr>\n",
       "  </tbody>\n",
       "</table>\n",
       "</div>"
      ],
      "text/plain": [
       "  symbol side    size      price                timestamp  month\n",
       "0    BTC  BUY  0.0001  5327120.0  2022-01-01 00:00:06.980      1\n",
       "1    BTC  BUY  0.0001  5327040.0  2022-01-01 00:00:37.674      1\n",
       "2    BTC  BUY  0.0001  5330760.0  2022-01-01 00:02:00.326      1\n",
       "3    BTC  BUY  0.0001  5330760.0  2022-01-01 00:02:00.588      1\n",
       "4    BTC  BUY  0.0007  5330760.0  2022-01-01 00:02:02.152      1"
      ]
     },
     "execution_count": 47,
     "metadata": {},
     "output_type": "execute_result"
    }
   ],
   "source": [
    "combined_dataframe.head()"
   ]
  },
  {
   "cell_type": "code",
   "execution_count": 48,
   "metadata": {},
   "outputs": [],
   "source": [
    "year = 2022\n",
    "months = [1,2,3,4,5,6,7,8,9,10,11,12]\n",
    "for month in months:\n",
    "    cd = combined_dataframe[combined_dataframe['month'] == month]\n",
    "    cd = cd[['symbol', 'side', 'size', 'price', 'timestamp']]\n",
    "    cd.to_csv(f'BTC_{year}_{month}.csv', index = False)"
   ]
  },
  {
   "cell_type": "code",
   "execution_count": null,
   "metadata": {},
   "outputs": [],
   "source": []
  }
 ],
 "metadata": {
  "kernelspec": {
   "display_name": "zeroMake",
   "language": "python",
   "name": "python3"
  },
  "language_info": {
   "codemirror_mode": {
    "name": "ipython",
    "version": 3
   },
   "file_extension": ".py",
   "mimetype": "text/x-python",
   "name": "python",
   "nbconvert_exporter": "python",
   "pygments_lexer": "ipython3",
   "version": "3.9.17"
  },
  "orig_nbformat": 4
 },
 "nbformat": 4,
 "nbformat_minor": 2
}
