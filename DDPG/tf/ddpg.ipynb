{
 "cells": [
  {
   "cell_type": "code",
   "execution_count": 4,
   "metadata": {},
   "outputs": [
    {
     "name": "stderr",
     "output_type": "stream",
     "text": [
      "'apt' �́A�����R�}���h�܂��͊O���R�}���h�A\n",
      "����\\�ȃv���O�����܂��̓o�b�` �t�@�C���Ƃ��ĔF������Ă��܂���B\n"
     ]
    },
    {
     "name": "stdout",
     "output_type": "stream",
     "text": [
      "Collecting gym-notebook-wrapper\n",
      "  Downloading gym_notebook_wrapper-1.3.3-py3-none-any.whl (9.9 kB)\n",
      "Requirement already satisfied: gym in c:\\users\\yamaguchi\\anaconda3\\envs\\gym\\lib\\site-packages (from gym-notebook-wrapper) (0.26.1)\n",
      "Requirement already satisfied: matplotlib in c:\\users\\yamaguchi\\anaconda3\\envs\\gym\\lib\\site-packages (from gym-notebook-wrapper) (3.7.2)\n",
      "Collecting pyvirtualdisplay (from gym-notebook-wrapper)\n",
      "  Downloading PyVirtualDisplay-3.0-py3-none-any.whl (15 kB)\n",
      "Requirement already satisfied: ipython in c:\\users\\yamaguchi\\anaconda3\\envs\\gym\\lib\\site-packages (from gym-notebook-wrapper) (8.12.2)\n",
      "Collecting moviepy (from gym-notebook-wrapper)\n",
      "  Using cached moviepy-1.0.3-py3-none-any.whl\n",
      "Requirement already satisfied: numpy>=1.18.0 in c:\\users\\yamaguchi\\anaconda3\\envs\\gym\\lib\\site-packages (from gym->gym-notebook-wrapper) (1.25.2)\n",
      "Requirement already satisfied: cloudpickle>=1.2.0 in c:\\users\\yamaguchi\\anaconda3\\envs\\gym\\lib\\site-packages (from gym->gym-notebook-wrapper) (2.2.1)\n",
      "Requirement already satisfied: gym-notices>=0.0.4 in c:\\users\\yamaguchi\\anaconda3\\envs\\gym\\lib\\site-packages (from gym->gym-notebook-wrapper) (0.0.8)\n",
      "Requirement already satisfied: importlib-metadata>=4.8.0 in c:\\users\\yamaguchi\\anaconda3\\envs\\gym\\lib\\site-packages (from gym->gym-notebook-wrapper) (6.0.0)\n",
      "Requirement already satisfied: backcall in c:\\users\\yamaguchi\\anaconda3\\envs\\gym\\lib\\site-packages (from ipython->gym-notebook-wrapper) (0.2.0)\n",
      "Requirement already satisfied: decorator in c:\\users\\yamaguchi\\anaconda3\\envs\\gym\\lib\\site-packages (from ipython->gym-notebook-wrapper) (5.1.1)\n",
      "Requirement already satisfied: jedi>=0.16 in c:\\users\\yamaguchi\\anaconda3\\envs\\gym\\lib\\site-packages (from ipython->gym-notebook-wrapper) (0.18.1)\n",
      "Requirement already satisfied: matplotlib-inline in c:\\users\\yamaguchi\\anaconda3\\envs\\gym\\lib\\site-packages (from ipython->gym-notebook-wrapper) (0.1.6)\n",
      "Requirement already satisfied: pickleshare in c:\\users\\yamaguchi\\anaconda3\\envs\\gym\\lib\\site-packages (from ipython->gym-notebook-wrapper) (0.7.5)\n",
      "Requirement already satisfied: prompt-toolkit!=3.0.37,<3.1.0,>=3.0.30 in c:\\users\\yamaguchi\\anaconda3\\envs\\gym\\lib\\site-packages (from ipython->gym-notebook-wrapper) (3.0.36)\n",
      "Requirement already satisfied: pygments>=2.4.0 in c:\\users\\yamaguchi\\anaconda3\\envs\\gym\\lib\\site-packages (from ipython->gym-notebook-wrapper) (2.15.1)\n",
      "Requirement already satisfied: stack-data in c:\\users\\yamaguchi\\anaconda3\\envs\\gym\\lib\\site-packages (from ipython->gym-notebook-wrapper) (0.2.0)\n",
      "Requirement already satisfied: traitlets>=5 in c:\\users\\yamaguchi\\anaconda3\\envs\\gym\\lib\\site-packages (from ipython->gym-notebook-wrapper) (5.7.1)\n",
      "Requirement already satisfied: typing-extensions in c:\\users\\yamaguchi\\anaconda3\\envs\\gym\\lib\\site-packages (from ipython->gym-notebook-wrapper) (4.7.1)\n",
      "Requirement already satisfied: colorama in c:\\users\\yamaguchi\\anaconda3\\envs\\gym\\lib\\site-packages (from ipython->gym-notebook-wrapper) (0.4.6)\n",
      "Requirement already satisfied: contourpy>=1.0.1 in c:\\users\\yamaguchi\\anaconda3\\envs\\gym\\lib\\site-packages (from matplotlib->gym-notebook-wrapper) (1.1.0)\n",
      "Requirement already satisfied: cycler>=0.10 in c:\\users\\yamaguchi\\anaconda3\\envs\\gym\\lib\\site-packages (from matplotlib->gym-notebook-wrapper) (0.11.0)\n",
      "Requirement already satisfied: fonttools>=4.22.0 in c:\\users\\yamaguchi\\anaconda3\\envs\\gym\\lib\\site-packages (from matplotlib->gym-notebook-wrapper) (4.42.0)\n",
      "Requirement already satisfied: kiwisolver>=1.0.1 in c:\\users\\yamaguchi\\anaconda3\\envs\\gym\\lib\\site-packages (from matplotlib->gym-notebook-wrapper) (1.4.4)\n",
      "Requirement already satisfied: packaging>=20.0 in c:\\users\\yamaguchi\\anaconda3\\envs\\gym\\lib\\site-packages (from matplotlib->gym-notebook-wrapper) (23.0)\n",
      "Requirement already satisfied: pillow>=6.2.0 in c:\\users\\yamaguchi\\anaconda3\\envs\\gym\\lib\\site-packages (from matplotlib->gym-notebook-wrapper) (10.0.0)\n",
      "Requirement already satisfied: pyparsing<3.1,>=2.3.1 in c:\\users\\yamaguchi\\anaconda3\\envs\\gym\\lib\\site-packages (from matplotlib->gym-notebook-wrapper) (3.0.9)\n",
      "Requirement already satisfied: python-dateutil>=2.7 in c:\\users\\yamaguchi\\anaconda3\\envs\\gym\\lib\\site-packages (from matplotlib->gym-notebook-wrapper) (2.8.2)\n",
      "Requirement already satisfied: importlib-resources>=3.2.0 in c:\\users\\yamaguchi\\anaconda3\\envs\\gym\\lib\\site-packages (from matplotlib->gym-notebook-wrapper) (6.0.1)\n",
      "Collecting decorator (from ipython->gym-notebook-wrapper)\n",
      "  Using cached decorator-4.4.2-py2.py3-none-any.whl (9.2 kB)\n",
      "Collecting tqdm<5.0,>=4.11.2 (from moviepy->gym-notebook-wrapper)\n",
      "  Obtaining dependency information for tqdm<5.0,>=4.11.2 from https://files.pythonhosted.org/packages/00/e5/f12a80907d0884e6dff9c16d0c0114d81b8cd07dc3ae54c5e962cc83037e/tqdm-4.66.1-py3-none-any.whl.metadata\n",
      "  Using cached tqdm-4.66.1-py3-none-any.whl.metadata (57 kB)\n",
      "Requirement already satisfied: requests<3.0,>=2.8.1 in c:\\users\\yamaguchi\\anaconda3\\envs\\gym\\lib\\site-packages (from moviepy->gym-notebook-wrapper) (2.31.0)\n",
      "Collecting proglog<=1.0.0 (from moviepy->gym-notebook-wrapper)\n",
      "  Using cached proglog-0.1.10-py3-none-any.whl (6.1 kB)\n",
      "Collecting imageio<3.0,>=2.5 (from moviepy->gym-notebook-wrapper)\n",
      "  Obtaining dependency information for imageio<3.0,>=2.5 from https://files.pythonhosted.org/packages/eb/21/662994d78d8623055f8ffa91838e28f04b2a34bd5d8d6dbc6c7573285ed6/imageio-2.31.3-py3-none-any.whl.metadata\n",
      "  Downloading imageio-2.31.3-py3-none-any.whl.metadata (4.6 kB)\n",
      "Collecting imageio-ffmpeg>=0.2.0 (from moviepy->gym-notebook-wrapper)\n",
      "  Obtaining dependency information for imageio-ffmpeg>=0.2.0 from https://files.pythonhosted.org/packages/c6/01/716106099e48c4f419876d5814679a94dd7d6f441217c97c1b608123c6bb/imageio_ffmpeg-0.4.9-py3-none-win_amd64.whl.metadata\n",
      "  Downloading imageio_ffmpeg-0.4.9-py3-none-win_amd64.whl.metadata (1.7 kB)\n",
      "Requirement already satisfied: setuptools in c:\\users\\yamaguchi\\anaconda3\\envs\\gym\\lib\\site-packages (from imageio-ffmpeg>=0.2.0->moviepy->gym-notebook-wrapper) (68.0.0)\n",
      "Requirement already satisfied: zipp>=0.5 in c:\\users\\yamaguchi\\anaconda3\\envs\\gym\\lib\\site-packages (from importlib-metadata>=4.8.0->gym->gym-notebook-wrapper) (3.11.0)\n",
      "Requirement already satisfied: parso<0.9.0,>=0.8.0 in c:\\users\\yamaguchi\\anaconda3\\envs\\gym\\lib\\site-packages (from jedi>=0.16->ipython->gym-notebook-wrapper) (0.8.3)\n",
      "Requirement already satisfied: wcwidth in c:\\users\\yamaguchi\\anaconda3\\envs\\gym\\lib\\site-packages (from prompt-toolkit!=3.0.37,<3.1.0,>=3.0.30->ipython->gym-notebook-wrapper) (0.2.5)\n",
      "Requirement already satisfied: six>=1.5 in c:\\users\\yamaguchi\\anaconda3\\envs\\gym\\lib\\site-packages (from python-dateutil>=2.7->matplotlib->gym-notebook-wrapper) (1.16.0)\n",
      "Requirement already satisfied: charset-normalizer<4,>=2 in c:\\users\\yamaguchi\\anaconda3\\envs\\gym\\lib\\site-packages (from requests<3.0,>=2.8.1->moviepy->gym-notebook-wrapper) (2.0.4)\n",
      "Requirement already satisfied: idna<4,>=2.5 in c:\\users\\yamaguchi\\anaconda3\\envs\\gym\\lib\\site-packages (from requests<3.0,>=2.8.1->moviepy->gym-notebook-wrapper) (3.4)\n",
      "Requirement already satisfied: urllib3<3,>=1.21.1 in c:\\users\\yamaguchi\\anaconda3\\envs\\gym\\lib\\site-packages (from requests<3.0,>=2.8.1->moviepy->gym-notebook-wrapper) (1.26.16)\n",
      "Requirement already satisfied: certifi>=2017.4.17 in c:\\users\\yamaguchi\\anaconda3\\envs\\gym\\lib\\site-packages (from requests<3.0,>=2.8.1->moviepy->gym-notebook-wrapper) (2023.7.22)\n",
      "Requirement already satisfied: executing in c:\\users\\yamaguchi\\anaconda3\\envs\\gym\\lib\\site-packages (from stack-data->ipython->gym-notebook-wrapper) (0.8.3)\n",
      "Requirement already satisfied: asttokens in c:\\users\\yamaguchi\\anaconda3\\envs\\gym\\lib\\site-packages (from stack-data->ipython->gym-notebook-wrapper) (2.0.5)\n",
      "Requirement already satisfied: pure-eval in c:\\users\\yamaguchi\\anaconda3\\envs\\gym\\lib\\site-packages (from stack-data->ipython->gym-notebook-wrapper) (0.2.2)\n",
      "Downloading imageio-2.31.3-py3-none-any.whl (313 kB)\n",
      "   ---------------------------------------- 0.0/313.0 kB ? eta -:--:--\n",
      "   ------------------------------------ --- 286.7/313.0 kB 8.9 MB/s eta 0:00:01\n",
      "   ---------------------------------------- 313.0/313.0 kB 6.4 MB/s eta 0:00:00\n",
      "Downloading imageio_ffmpeg-0.4.9-py3-none-win_amd64.whl (22.6 MB)\n",
      "   ---------------------------------------- 0.0/22.6 MB ? eta -:--:--\n",
      "   - -------------------------------------- 0.8/22.6 MB 16.6 MB/s eta 0:00:02\n",
      "   --- ------------------------------------ 1.8/22.6 MB 16.8 MB/s eta 0:00:02\n",
      "   ----- ---------------------------------- 3.2/22.6 MB 20.7 MB/s eta 0:00:01\n",
      "   ------- -------------------------------- 4.2/22.6 MB 24.3 MB/s eta 0:00:01\n",
      "   ------- -------------------------------- 4.2/22.6 MB 24.3 MB/s eta 0:00:01\n",
      "   ------- -------------------------------- 4.2/22.6 MB 15.1 MB/s eta 0:00:02\n",
      "   ---------- ----------------------------- 6.2/22.6 MB 18.9 MB/s eta 0:00:01\n",
      "   -------------- ------------------------- 7.9/22.6 MB 21.2 MB/s eta 0:00:01\n",
      "   ----------------- ---------------------- 9.6/22.6 MB 22.8 MB/s eta 0:00:01\n",
      "   ------------------- -------------------- 11.2/22.6 MB 25.2 MB/s eta 0:00:01\n",
      "   ---------------------- ----------------- 12.5/22.6 MB 25.2 MB/s eta 0:00:01\n",
      "   ------------------------ --------------- 13.8/22.6 MB 25.2 MB/s eta 0:00:01\n",
      "   -------------------------- ------------- 15.0/22.6 MB 32.8 MB/s eta 0:00:01\n",
      "   ---------------------------- ----------- 16.3/22.6 MB 31.2 MB/s eta 0:00:01\n",
      "   ------------------------------- -------- 17.8/22.6 MB 31.2 MB/s eta 0:00:01\n",
      "   ---------------------------------- ----- 19.3/22.6 MB 29.7 MB/s eta 0:00:01\n",
      "   ------------------------------------ --- 20.8/22.6 MB 29.7 MB/s eta 0:00:01\n",
      "   ---------------------------------------  22.2/22.6 MB 29.8 MB/s eta 0:00:01\n",
      "   ---------------------------------------  22.6/22.6 MB 29.7 MB/s eta 0:00:01\n",
      "   ---------------------------------------- 22.6/22.6 MB 26.2 MB/s eta 0:00:00\n",
      "Using cached tqdm-4.66.1-py3-none-any.whl (78 kB)\n",
      "Installing collected packages: pyvirtualdisplay, tqdm, imageio-ffmpeg, imageio, decorator, proglog, moviepy, gym-notebook-wrapper\n",
      "  Attempting uninstall: decorator\n",
      "    Found existing installation: decorator 5.1.1\n",
      "    Uninstalling decorator-5.1.1:\n",
      "      Successfully uninstalled decorator-5.1.1\n",
      "Successfully installed decorator-4.4.2 gym-notebook-wrapper-1.3.3 imageio-2.31.3 imageio-ffmpeg-0.4.9 moviepy-1.0.3 proglog-0.1.10 pyvirtualdisplay-3.0 tqdm-4.66.1\n"
     ]
    }
   ],
   "source": [
    "!apt update && apt install xvfb\n",
    "!pip install gym-notebook-wrapper"
   ]
  },
  {
   "cell_type": "code",
   "execution_count": 3,
   "metadata": {},
   "outputs": [
    {
     "name": "stderr",
     "output_type": "stream",
     "text": [
      "c:\\Users\\yamaguchi\\anaconda3\\envs\\gym\\lib\\site-packages\\gym\\utils\\passive_env_checker.py:233: DeprecationWarning: `np.bool8` is a deprecated alias for `np.bool_`.  (Deprecated NumPy 1.24)\n",
      "  if not isinstance(terminated, (bool, np.bool8)):\n"
     ]
    }
   ],
   "source": [
    "import gym\n",
    "\n",
    "env = gym.make('CartPole-v1', render_mode = 'human')\n",
    "\n",
    "o = env.reset()\n",
    "\n",
    "for _ in range(100):\n",
    "    o, r, d, i, _ = env.step(env.action_space.sample())\n",
    "    env.render()\n",
    "    if d:\n",
    "        env.reset()\n",
    "\n",
    "env.close()\n",
    "# env.display()"
   ]
  },
  {
   "cell_type": "code",
   "execution_count": 5,
   "metadata": {},
   "outputs": [
    {
     "ename": "FileNotFoundError",
     "evalue": "[WinError 2] 指定されたファイルが見つかりません。",
     "output_type": "error",
     "traceback": [
      "\u001b[1;31m---------------------------------------------------------------------------\u001b[0m",
      "\u001b[1;31mFileNotFoundError\u001b[0m                         Traceback (most recent call last)",
      "Cell \u001b[1;32mIn[5], line 6\u001b[0m\n\u001b[0;32m      3\u001b[0m \u001b[39mimport\u001b[39;00m \u001b[39mgnwrapper\u001b[39;00m\n\u001b[0;32m      4\u001b[0m \u001b[39mimport\u001b[39;00m \u001b[39mgym\u001b[39;00m\n\u001b[1;32m----> 6\u001b[0m env \u001b[39m=\u001b[39m gnwrapper\u001b[39m.\u001b[39;49mLoopAnimation(gym\u001b[39m.\u001b[39;49mmake(\u001b[39m'\u001b[39;49m\u001b[39mCartPole-v1\u001b[39;49m\u001b[39m'\u001b[39;49m))\n\u001b[0;32m      8\u001b[0m o \u001b[39m=\u001b[39m env\u001b[39m.\u001b[39mreset()\n\u001b[0;32m     10\u001b[0m \u001b[39mfor\u001b[39;00m _ \u001b[39min\u001b[39;00m \u001b[39mrange\u001b[39m(\u001b[39m100\u001b[39m):\n",
      "File \u001b[1;32mc:\\Users\\yamaguchi\\anaconda3\\envs\\gym\\lib\\site-packages\\gnwrapper\\__init__.py:146\u001b[0m, in \u001b[0;36mLoopAnimation.__init__\u001b[1;34m(self, env, size)\u001b[0m\n\u001b[0;32m    135\u001b[0m \u001b[39mdef\u001b[39;00m \u001b[39m__init__\u001b[39m(\u001b[39mself\u001b[39m,env,size\u001b[39m=\u001b[39m(\u001b[39m1024\u001b[39m, \u001b[39m768\u001b[39m)):\n\u001b[0;32m    136\u001b[0m \u001b[39m    \u001b[39m\u001b[39m\"\"\"\u001b[39;00m\n\u001b[0;32m    137\u001b[0m \u001b[39m    Wrap environment for Notebook\u001b[39;00m\n\u001b[0;32m    138\u001b[0m \n\u001b[1;32m   (...)\u001b[0m\n\u001b[0;32m    144\u001b[0m \u001b[39m        Virtual display size, whose default is (1024, 768)\u001b[39;00m\n\u001b[0;32m    145\u001b[0m \u001b[39m    \"\"\"\u001b[39;00m\n\u001b[1;32m--> 146\u001b[0m     \u001b[39msuper\u001b[39;49m()\u001b[39m.\u001b[39;49m\u001b[39m__init__\u001b[39;49m(env,size)\n\u001b[0;32m    148\u001b[0m     \u001b[39mself\u001b[39m\u001b[39m.\u001b[39m_img \u001b[39m=\u001b[39m []\n",
      "File \u001b[1;32mc:\\Users\\yamaguchi\\anaconda3\\envs\\gym\\lib\\site-packages\\gnwrapper\\__init__.py:70\u001b[0m, in \u001b[0;36mVirtualDisplay.__init__\u001b[1;34m(self, env, size)\u001b[0m\n\u001b[0;32m     68\u001b[0m \u001b[39msuper\u001b[39m()\u001b[39m.\u001b[39m\u001b[39m__init__\u001b[39m(env)\n\u001b[0;32m     69\u001b[0m \u001b[39mself\u001b[39m\u001b[39m.\u001b[39msize \u001b[39m=\u001b[39m size\n\u001b[1;32m---> 70\u001b[0m \u001b[39mself\u001b[39m\u001b[39m.\u001b[39m_display \u001b[39m=\u001b[39m _VirtualDisplaySingleton(size)\n",
      "File \u001b[1;32mc:\\Users\\yamaguchi\\anaconda3\\envs\\gym\\lib\\site-packages\\gnwrapper\\__init__.py:44\u001b[0m, in \u001b[0;36m_VirtualDisplaySingleton.__init__\u001b[1;34m(self, size)\u001b[0m\n\u001b[0;32m     41\u001b[0m \u001b[39mself\u001b[39m\u001b[39m.\u001b[39msize \u001b[39m=\u001b[39m size\n\u001b[0;32m     43\u001b[0m \u001b[39mif\u001b[39;00m \u001b[39mnot\u001b[39;00m \u001b[39mhasattr\u001b[39m(\u001b[39mself\u001b[39m,\u001b[39m\"\u001b[39m\u001b[39m_display\u001b[39m\u001b[39m\"\u001b[39m):\n\u001b[1;32m---> 44\u001b[0m     \u001b[39mself\u001b[39m\u001b[39m.\u001b[39m_display \u001b[39m=\u001b[39m Display(visible\u001b[39m=\u001b[39;49m\u001b[39m0\u001b[39;49m,size\u001b[39m=\u001b[39;49m\u001b[39mself\u001b[39;49m\u001b[39m.\u001b[39;49msize)\n\u001b[0;32m     46\u001b[0m     original \u001b[39m=\u001b[39m subprocess\u001b[39m.\u001b[39mPopen\n\u001b[0;32m     47\u001b[0m     \u001b[39mdef\u001b[39;00m \u001b[39mPopen\u001b[39m(cmd,pass_fds,stdout,stderr,shell):\n",
      "File \u001b[1;32mc:\\Users\\yamaguchi\\anaconda3\\envs\\gym\\lib\\site-packages\\pyvirtualdisplay\\display.py:54\u001b[0m, in \u001b[0;36mDisplay.__init__\u001b[1;34m(self, backend, visible, size, color_depth, bgcolor, use_xauth, retries, extra_args, manage_global_env, **kwargs)\u001b[0m\n\u001b[0;32m     51\u001b[0m \u001b[39mif\u001b[39;00m \u001b[39mnot\u001b[39;00m \u001b[39mcls\u001b[39m:\n\u001b[0;32m     52\u001b[0m     \u001b[39mraise\u001b[39;00m \u001b[39mValueError\u001b[39;00m(\u001b[39m\"\u001b[39m\u001b[39munknown backend: \u001b[39m\u001b[39m%s\u001b[39;00m\u001b[39m\"\u001b[39m \u001b[39m%\u001b[39m \u001b[39mself\u001b[39m\u001b[39m.\u001b[39m_backend)\n\u001b[1;32m---> 54\u001b[0m \u001b[39mself\u001b[39m\u001b[39m.\u001b[39m_obj \u001b[39m=\u001b[39m \u001b[39mcls\u001b[39m(\n\u001b[0;32m     55\u001b[0m     size\u001b[39m=\u001b[39msize,\n\u001b[0;32m     56\u001b[0m     color_depth\u001b[39m=\u001b[39mcolor_depth,\n\u001b[0;32m     57\u001b[0m     bgcolor\u001b[39m=\u001b[39mbgcolor,\n\u001b[0;32m     58\u001b[0m     retries\u001b[39m=\u001b[39mretries,\n\u001b[0;32m     59\u001b[0m     use_xauth\u001b[39m=\u001b[39muse_xauth,\n\u001b[0;32m     60\u001b[0m     \u001b[39m# check_startup=check_startup,\u001b[39;00m\n\u001b[0;32m     61\u001b[0m     extra_args\u001b[39m=\u001b[39mextra_args,\n\u001b[0;32m     62\u001b[0m     manage_global_env\u001b[39m=\u001b[39mmanage_global_env,\n\u001b[0;32m     63\u001b[0m     \u001b[39m*\u001b[39m\u001b[39m*\u001b[39mkwargs\n\u001b[0;32m     64\u001b[0m )\n",
      "File \u001b[1;32mc:\\Users\\yamaguchi\\anaconda3\\envs\\gym\\lib\\site-packages\\pyvirtualdisplay\\xvfb.py:44\u001b[0m, in \u001b[0;36mXvfbDisplay.__init__\u001b[1;34m(self, size, color_depth, bgcolor, use_xauth, fbdir, dpi, retries, extra_args, manage_global_env)\u001b[0m\n\u001b[0;32m     41\u001b[0m \u001b[39mself\u001b[39m\u001b[39m.\u001b[39m_fbdir \u001b[39m=\u001b[39m fbdir\n\u001b[0;32m     42\u001b[0m \u001b[39mself\u001b[39m\u001b[39m.\u001b[39m_dpi \u001b[39m=\u001b[39m dpi\n\u001b[1;32m---> 44\u001b[0m AbstractDisplay\u001b[39m.\u001b[39;49m\u001b[39m__init__\u001b[39;49m(\n\u001b[0;32m     45\u001b[0m     \u001b[39mself\u001b[39;49m,\n\u001b[0;32m     46\u001b[0m     PROGRAM,\n\u001b[0;32m     47\u001b[0m     use_xauth\u001b[39m=\u001b[39;49muse_xauth,\n\u001b[0;32m     48\u001b[0m     retries\u001b[39m=\u001b[39;49mretries,\n\u001b[0;32m     49\u001b[0m     extra_args\u001b[39m=\u001b[39;49mextra_args,\n\u001b[0;32m     50\u001b[0m     manage_global_env\u001b[39m=\u001b[39;49mmanage_global_env,\n\u001b[0;32m     51\u001b[0m )\n",
      "File \u001b[1;32mc:\\Users\\yamaguchi\\anaconda3\\envs\\gym\\lib\\site-packages\\pyvirtualdisplay\\abstractdisplay.py:85\u001b[0m, in \u001b[0;36mAbstractDisplay.__init__\u001b[1;34m(self, program, use_xauth, retries, extra_args, manage_global_env)\u001b[0m\n\u001b[0;32m     82\u001b[0m \u001b[39mself\u001b[39m\u001b[39m.\u001b[39m_pipe_wfd \u001b[39m=\u001b[39m \u001b[39mNone\u001b[39;00m\n\u001b[0;32m     83\u001b[0m \u001b[39mself\u001b[39m\u001b[39m.\u001b[39m_retries_current \u001b[39m=\u001b[39m \u001b[39m0\u001b[39m\n\u001b[1;32m---> 85\u001b[0m helptext \u001b[39m=\u001b[39m get_helptext(program)\n\u001b[0;32m     86\u001b[0m \u001b[39mself\u001b[39m\u001b[39m.\u001b[39m_has_displayfd \u001b[39m=\u001b[39m \u001b[39m\"\u001b[39m\u001b[39m-displayfd\u001b[39m\u001b[39m\"\u001b[39m \u001b[39min\u001b[39;00m helptext\n\u001b[0;32m     87\u001b[0m \u001b[39mif\u001b[39;00m \u001b[39mnot\u001b[39;00m \u001b[39mself\u001b[39m\u001b[39m.\u001b[39m_has_displayfd:\n",
      "File \u001b[1;32mc:\\Users\\yamaguchi\\anaconda3\\envs\\gym\\lib\\site-packages\\pyvirtualdisplay\\util.py:13\u001b[0m, in \u001b[0;36mget_helptext\u001b[1;34m(program)\u001b[0m\n\u001b[0;32m      6\u001b[0m cmd \u001b[39m=\u001b[39m [program, \u001b[39m\"\u001b[39m\u001b[39m-help\u001b[39m\u001b[39m\"\u001b[39m]\n\u001b[0;32m      8\u001b[0m \u001b[39m# py3.7+\u001b[39;00m\n\u001b[0;32m      9\u001b[0m \u001b[39m# p = subprocess.run(cmd, capture_output=True)\u001b[39;00m\n\u001b[0;32m     10\u001b[0m \u001b[39m# stderr = p.stderr\u001b[39;00m\n\u001b[0;32m     11\u001b[0m \n\u001b[0;32m     12\u001b[0m \u001b[39m# py3.6 also\u001b[39;00m\n\u001b[1;32m---> 13\u001b[0m p \u001b[39m=\u001b[39m subprocess\u001b[39m.\u001b[39;49mPopen(\n\u001b[0;32m     14\u001b[0m     cmd,\n\u001b[0;32m     15\u001b[0m     stdout\u001b[39m=\u001b[39;49msubprocess\u001b[39m.\u001b[39;49mPIPE,\n\u001b[0;32m     16\u001b[0m     stderr\u001b[39m=\u001b[39;49msubprocess\u001b[39m.\u001b[39;49mPIPE,\n\u001b[0;32m     17\u001b[0m     shell\u001b[39m=\u001b[39;49m\u001b[39mFalse\u001b[39;49;00m,\n\u001b[0;32m     18\u001b[0m )\n\u001b[0;32m     19\u001b[0m _, stderr \u001b[39m=\u001b[39m p\u001b[39m.\u001b[39mcommunicate()\n\u001b[0;32m     21\u001b[0m helptext \u001b[39m=\u001b[39m stderr\u001b[39m.\u001b[39mdecode(\u001b[39m\"\u001b[39m\u001b[39mutf-8\u001b[39m\u001b[39m\"\u001b[39m, \u001b[39m\"\u001b[39m\u001b[39mignore\u001b[39m\u001b[39m\"\u001b[39m)\n",
      "File \u001b[1;32mc:\\Users\\yamaguchi\\anaconda3\\envs\\gym\\lib\\subprocess.py:951\u001b[0m, in \u001b[0;36mPopen.__init__\u001b[1;34m(self, args, bufsize, executable, stdin, stdout, stderr, preexec_fn, close_fds, shell, cwd, env, universal_newlines, startupinfo, creationflags, restore_signals, start_new_session, pass_fds, user, group, extra_groups, encoding, errors, text, umask)\u001b[0m\n\u001b[0;32m    947\u001b[0m         \u001b[39mif\u001b[39;00m \u001b[39mself\u001b[39m\u001b[39m.\u001b[39mtext_mode:\n\u001b[0;32m    948\u001b[0m             \u001b[39mself\u001b[39m\u001b[39m.\u001b[39mstderr \u001b[39m=\u001b[39m io\u001b[39m.\u001b[39mTextIOWrapper(\u001b[39mself\u001b[39m\u001b[39m.\u001b[39mstderr,\n\u001b[0;32m    949\u001b[0m                     encoding\u001b[39m=\u001b[39mencoding, errors\u001b[39m=\u001b[39merrors)\n\u001b[1;32m--> 951\u001b[0m     \u001b[39mself\u001b[39;49m\u001b[39m.\u001b[39;49m_execute_child(args, executable, preexec_fn, close_fds,\n\u001b[0;32m    952\u001b[0m                         pass_fds, cwd, env,\n\u001b[0;32m    953\u001b[0m                         startupinfo, creationflags, shell,\n\u001b[0;32m    954\u001b[0m                         p2cread, p2cwrite,\n\u001b[0;32m    955\u001b[0m                         c2pread, c2pwrite,\n\u001b[0;32m    956\u001b[0m                         errread, errwrite,\n\u001b[0;32m    957\u001b[0m                         restore_signals,\n\u001b[0;32m    958\u001b[0m                         gid, gids, uid, umask,\n\u001b[0;32m    959\u001b[0m                         start_new_session)\n\u001b[0;32m    960\u001b[0m \u001b[39mexcept\u001b[39;00m:\n\u001b[0;32m    961\u001b[0m     \u001b[39m# Cleanup if the child failed starting.\u001b[39;00m\n\u001b[0;32m    962\u001b[0m     \u001b[39mfor\u001b[39;00m f \u001b[39min\u001b[39;00m \u001b[39mfilter\u001b[39m(\u001b[39mNone\u001b[39;00m, (\u001b[39mself\u001b[39m\u001b[39m.\u001b[39mstdin, \u001b[39mself\u001b[39m\u001b[39m.\u001b[39mstdout, \u001b[39mself\u001b[39m\u001b[39m.\u001b[39mstderr)):\n",
      "File \u001b[1;32mc:\\Users\\yamaguchi\\anaconda3\\envs\\gym\\lib\\subprocess.py:1436\u001b[0m, in \u001b[0;36mPopen._execute_child\u001b[1;34m(self, args, executable, preexec_fn, close_fds, pass_fds, cwd, env, startupinfo, creationflags, shell, p2cread, p2cwrite, c2pread, c2pwrite, errread, errwrite, unused_restore_signals, unused_gid, unused_gids, unused_uid, unused_umask, unused_start_new_session)\u001b[0m\n\u001b[0;32m   1434\u001b[0m \u001b[39m# Start the process\u001b[39;00m\n\u001b[0;32m   1435\u001b[0m \u001b[39mtry\u001b[39;00m:\n\u001b[1;32m-> 1436\u001b[0m     hp, ht, pid, tid \u001b[39m=\u001b[39m _winapi\u001b[39m.\u001b[39;49mCreateProcess(executable, args,\n\u001b[0;32m   1437\u001b[0m                              \u001b[39m# no special security\u001b[39;49;00m\n\u001b[0;32m   1438\u001b[0m                              \u001b[39mNone\u001b[39;49;00m, \u001b[39mNone\u001b[39;49;00m,\n\u001b[0;32m   1439\u001b[0m                              \u001b[39mint\u001b[39;49m(\u001b[39mnot\u001b[39;49;00m close_fds),\n\u001b[0;32m   1440\u001b[0m                              creationflags,\n\u001b[0;32m   1441\u001b[0m                              env,\n\u001b[0;32m   1442\u001b[0m                              cwd,\n\u001b[0;32m   1443\u001b[0m                              startupinfo)\n\u001b[0;32m   1444\u001b[0m \u001b[39mfinally\u001b[39;00m:\n\u001b[0;32m   1445\u001b[0m     \u001b[39m# Child is launched. Close the parent's copy of those pipe\u001b[39;00m\n\u001b[0;32m   1446\u001b[0m     \u001b[39m# handles that only the child should have open.  You need\u001b[39;00m\n\u001b[1;32m   (...)\u001b[0m\n\u001b[0;32m   1449\u001b[0m     \u001b[39m# pipe will not close when the child process exits and the\u001b[39;00m\n\u001b[0;32m   1450\u001b[0m     \u001b[39m# ReadFile will hang.\u001b[39;00m\n\u001b[0;32m   1451\u001b[0m     \u001b[39mself\u001b[39m\u001b[39m.\u001b[39m_close_pipe_fds(p2cread, p2cwrite,\n\u001b[0;32m   1452\u001b[0m                          c2pread, c2pwrite,\n\u001b[0;32m   1453\u001b[0m                          errread, errwrite)\n",
      "\u001b[1;31mFileNotFoundError\u001b[0m: [WinError 2] 指定されたファイルが見つかりません。"
     ]
    }
   ],
   "source": [
    "# 確認用\n",
    "\n",
    "import gnwrapper\n",
    "import gym\n",
    "\n",
    "env = gnwrapper.LoopAnimation(gym.make('CartPole-v1'))\n",
    "\n",
    "o = env.reset()\n",
    "\n",
    "for _ in range(100):\n",
    "    o, r, d, i = env.step(env.action_space.sample())\n",
    "    env.render()\n",
    "    if d:\n",
    "        env.reset()\n",
    "\n",
    "env.close()\n",
    "env.display()"
   ]
  },
  {
   "cell_type": "code",
   "execution_count": null,
   "metadata": {},
   "outputs": [],
   "source": []
  }
 ],
 "metadata": {
  "kernelspec": {
   "display_name": "gym",
   "language": "python",
   "name": "python3"
  },
  "language_info": {
   "codemirror_mode": {
    "name": "ipython",
    "version": 3
   },
   "file_extension": ".py",
   "mimetype": "text/x-python",
   "name": "python",
   "nbconvert_exporter": "python",
   "pygments_lexer": "ipython3",
   "version": "3.9.17"
  },
  "orig_nbformat": 4
 },
 "nbformat": 4,
 "nbformat_minor": 2
}
