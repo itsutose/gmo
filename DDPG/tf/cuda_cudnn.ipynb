{
 "cells": [
  {
   "cell_type": "code",
   "execution_count": 1,
   "metadata": {},
   "outputs": [
    {
     "name": "stdout",
     "output_type": "stream",
     "text": [
      "cuda_11.7.r11.7/compiler.31442593_0\n"
     ]
    }
   ],
   "source": [
    "import subprocess\n",
    "\n",
    "def get_cuda_version():\n",
    "    try:\n",
    "        output = subprocess.check_output([\"nvcc\", \"--version\"]).decode(\"utf-8\")\n",
    "        return output.strip().split('\\n')[-1].split(' ')[-1]\n",
    "    except Exception as e:\n",
    "        return f\"Could not determine CUDA version: {str(e)}\"\n",
    "\n",
    "print(get_cuda_version())"
   ]
  },
  {
   "cell_type": "code",
   "execution_count": 2,
   "metadata": {},
   "outputs": [
    {
     "name": "stdout",
     "output_type": "stream",
     "text": [
      "cuDNN version: 64_8\n"
     ]
    }
   ],
   "source": [
    "import tensorflow as tf\n",
    "print(\"cuDNN version:\", tf.sysconfig.get_build_info()['cudnn_version'])\n"
   ]
  },
  {
   "cell_type": "code",
   "execution_count": 3,
   "metadata": {},
   "outputs": [
    {
     "name": "stdout",
     "output_type": "stream",
     "text": [
      "GPU Available:  [PhysicalDevice(name='/physical_device:GPU:0', device_type='GPU')]\n",
      "TensorFlow Version:  2.10.1\n"
     ]
    }
   ],
   "source": [
    "import tensorflow as tf\n",
    "print(\"GPU Available: \", tf.config.list_physical_devices('GPU'))\n",
    "print(\"TensorFlow Version: \", tf.__version__)\n"
   ]
  },
  {
   "cell_type": "code",
   "execution_count": 4,
   "metadata": {},
   "outputs": [
    {
     "name": "stdout",
     "output_type": "stream",
     "text": [
      "Num GPUs Available:  1\n",
      "CPU Time: 0.5030 s\n",
      "GPU Time: 1.6128 s\n"
     ]
    }
   ],
   "source": [
    "import tensorflow as tf\n",
    "import time\n",
    "\n",
    "# GPUが利用可能か確認\n",
    "print(\"Num GPUs Available: \", len(tf.config.list_physical_devices('GPU')))\n",
    "\n",
    "# 行列のサイズ\n",
    "matrix_size = 5000\n",
    "\n",
    "# ランダムな行列を生成\n",
    "A = tf.random.normal([matrix_size, matrix_size])\n",
    "B = tf.random.normal([matrix_size, matrix_size])\n",
    "\n",
    "# CPUでの計算\n",
    "with tf.device(\"CPU:0\"):\n",
    "    start_time = time.time()\n",
    "    C_cpu = tf.matmul(A, B)\n",
    "    cpu_time = time.time() - start_time\n",
    "    print(\"CPU Time: {:.4f} s\".format(cpu_time))\n",
    "\n",
    "# GPUでの計算（GPUが利用可能な場合）\n",
    "if tf.config.list_physical_devices('GPU'):\n",
    "    with tf.device(\"GPU:0\"):\n",
    "        start_time = time.time()\n",
    "        C_gpu = tf.matmul(A, B)\n",
    "        gpu_time = time.time() - start_time\n",
    "        print(\"GPU Time: {:.4f} s\".format(gpu_time))\n",
    "else:\n",
    "    print(\"GPU not available\")\n"
   ]
  },
  {
   "cell_type": "code",
   "execution_count": 5,
   "metadata": {},
   "outputs": [
    {
     "name": "stdout",
     "output_type": "stream",
     "text": [
      "Num GPUs Available:  1\n",
      "CPU average time over 10 iterations: 0.4511 s\n",
      "GPU average time over 10 iterations: 0.0002 s\n"
     ]
    }
   ],
   "source": [
    "import tensorflow as tf\n",
    "import time\n",
    "\n",
    "print(\"Num GPUs Available: \", len(tf.config.list_physical_devices('GPU')))\n",
    "\n",
    "matrix_size = 5000\n",
    "n_iterations = 10\n",
    "\n",
    "A = tf.random.normal([matrix_size, matrix_size], dtype=tf.float32)\n",
    "B = tf.random.normal([matrix_size, matrix_size], dtype=tf.float32)\n",
    "\n",
    "cpu_times = []\n",
    "gpu_times = []\n",
    "\n",
    "with tf.device(\"CPU:0\"):\n",
    "    for i in range(n_iterations):\n",
    "        start_time = time.time()\n",
    "        C_cpu = tf.matmul(A, B)\n",
    "        cpu_times.append(time.time() - start_time)\n",
    "\n",
    "if tf.config.list_physical_devices('GPU'):\n",
    "    with tf.device(\"GPU:0\"):\n",
    "        for i in range(n_iterations):\n",
    "            start_time = time.time()\n",
    "            C_gpu = tf.matmul(A, B)\n",
    "            gpu_times.append(time.time() - start_time)\n",
    "\n",
    "print(f\"CPU average time over {n_iterations} iterations: {sum(cpu_times) / len(cpu_times):.4f} s\")\n",
    "if gpu_times:\n",
    "    print(f\"GPU average time over {n_iterations} iterations: {sum(gpu_times) / len(gpu_times):.4f} s\")\n"
   ]
  },
  {
   "cell_type": "code",
   "execution_count": null,
   "metadata": {},
   "outputs": [],
   "source": []
  }
 ],
 "metadata": {
  "kernelspec": {
   "display_name": "Python 3",
   "language": "python",
   "name": "python3"
  },
  "language_info": {
   "codemirror_mode": {
    "name": "ipython",
    "version": 3
   },
   "file_extension": ".py",
   "mimetype": "text/x-python",
   "name": "python",
   "nbconvert_exporter": "python",
   "pygments_lexer": "ipython3",
   "version": "3.10.12"
  },
  "orig_nbformat": 4
 },
 "nbformat": 4,
 "nbformat_minor": 2
}
