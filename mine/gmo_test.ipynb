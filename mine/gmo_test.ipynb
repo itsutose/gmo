{
 "cells": [
  {
   "cell_type": "code",
   "execution_count": 2,
   "metadata": {},
   "outputs": [
    {
     "name": "stdout",
     "output_type": "stream",
     "text": [
      "2023-06-13 20:49:48.207285\n"
     ]
    }
   ],
   "source": [
    "import datetime\n",
    "print(datetime.datetime.now())\n"
   ]
  },
  {
   "cell_type": "code",
   "execution_count": 4,
   "metadata": {},
   "outputs": [
    {
     "name": "stdout",
     "output_type": "stream",
     "text": [
      "2023-06-13 12:03:03.536897\n"
     ]
    }
   ],
   "source": [
    "import datetime\n",
    "\n",
    "# 現在の時刻を取得\n",
    "current_time = datetime.datetime.now()\n",
    "\n",
    "# 9時間引くためのtimedeltaオブジェクトを作成\n",
    "delta = datetime.timedelta(hours=9)\n",
    "\n",
    "# 現在の時刻から9時間引いた時刻を計算\n",
    "new_time = current_time - delta\n",
    "\n",
    "print(new_time)\n"
   ]
  },
  {
   "cell_type": "code",
   "execution_count": 1,
   "metadata": {},
   "outputs": [
    {
     "name": "stdout",
     "output_type": "stream",
     "text": [
      "2023-06-14 01:15:56.197962\n"
     ]
    }
   ],
   "source": [
    "import requests\n",
    "import json\n",
    "import hmac\n",
    "import hashlib\n",
    "import time\n",
    "import datetime\n",
    "# 注文\n",
    "# https://api.coin.z.com/docs/#order\n",
    "\n",
    "\n",
    "print(datetime.datetime.now())\n",
    "# 現在の時刻を取得\n",
    "current_time = datetime.datetime.now()\n",
    "\n",
    "# 9時間引くためのtimedeltaオブジェクトを作成\n",
    "delta = datetime.timedelta(hours=9)\n",
    "\n",
    "# 現在の時刻から9時間引いた時刻を計算\n",
    "new_time = current_time - delta\n",
    "\n",
    "\n",
    "timestamp = '{0}000'.format(int(time.mktime(new_time.timetuple())))\n",
    "method    = 'POST'\n",
    "endPoint  = 'https://api.coin.z.com/private'\n",
    "path      = '/v1/order'\n",
    "reqBody = {\n",
    "    \"symbol\": \"BTC_JPY\",\n",
    "    \"side\": \"BUY\",\n",
    "    \"executionType\": \"LIMIT\",\n",
    "    \"timeInForce\": \"FAS\",\n",
    "    \"price\": \"00\",\n",
    "    \"losscutPrice\": \"30012\",\n",
    "    \"size\": \"0.0001\"\n",
    "}"
   ]
  },
  {
   "cell_type": "code",
   "execution_count": 16,
   "metadata": {},
   "outputs": [
    {
     "name": "stdout",
     "output_type": "stream",
     "text": [
      "2023-06-14 01:09:22.710914\n"
     ]
    }
   ],
   "source": [
    "import datetime\n",
    "\n",
    "# 文字列形式のタイムスタンプ\n",
    "then_str = \"2023-06-14 01:09:22.710914\"\n",
    "\n",
    "# 文字列をdatetime形式に変換\n",
    "then_timestamp = datetime.datetime.strptime(then_str, \"%Y-%m-%d %H:%M:%S.%f\")\n",
    "\n",
    "print(then_timestamp)"
   ]
  },
  {
   "cell_type": "code",
   "execution_count": 17,
   "metadata": {},
   "outputs": [
    {
     "name": "stdout",
     "output_type": "stream",
     "text": [
      "2023-06-13 16:09:48.220000\n",
      "<class 'datetime.datetime'>\n"
     ]
    }
   ],
   "source": [
    "api_response_time = datetime.datetime.strptime(\"2023-06-13T16:09:48.220Z\", \"%Y-%m-%dT%H:%M:%S.%fZ\")\n",
    "print(api_response_time)\n",
    "print(type(api_response_time))"
   ]
  },
  {
   "cell_type": "code",
   "execution_count": 19,
   "metadata": {},
   "outputs": [
    {
     "name": "stdout",
     "output_type": "stream",
     "text": [
      "8:59:34.490914\n",
      "<class 'datetime.timedelta'>\n"
     ]
    },
    {
     "data": {
      "text/plain": [
       "datetime.timedelta(seconds=32374, microseconds=490914)"
      ]
     },
     "execution_count": 19,
     "metadata": {},
     "output_type": "execute_result"
    }
   ],
   "source": [
    "timestamp_diff =  then_timestamp - api_response_time\n",
    "print(timestamp_diff)\n",
    "print(type(timestamp_diff))\n",
    "timestamp_diff"
   ]
  },
  {
   "cell_type": "code",
   "execution_count": null,
   "metadata": {},
   "outputs": [],
   "source": [
    "corrected_timestamp = datetime.datetime.now() - timestamp_diff"
   ]
  },
  {
   "cell_type": "code",
   "execution_count": 22,
   "metadata": {},
   "outputs": [
    {
     "name": "stdout",
     "output_type": "stream",
     "text": [
      "{\n",
      "  \"status\": 0,\n",
      "  \"data\": {\n",
      "    \"list\": [\n",
      "      {\n",
      "        \"executedSize\": \"0\",\n",
      "        \"executionType\": \"LIMIT\",\n",
      "        \"losscutPrice\": \"0\",\n",
      "        \"orderId\": 3589275589,\n",
      "        \"orderType\": \"NORMAL\",\n",
      "        \"price\": \"3609500\",\n",
      "        \"rootOrderId\": 3589275589,\n",
      "        \"settleType\": \"OPEN\",\n",
      "        \"side\": \"BUY\",\n",
      "        \"size\": \"0.0007\",\n",
      "        \"status\": \"ORDERED\",\n",
      "        \"symbol\": \"BTC\",\n",
      "        \"timeInForce\": \"FAS\",\n",
      "        \"timestamp\": \"2023-06-14T01:00:17.154000Z\"\n",
      "      },\n",
      "      {\n",
      "        \"executedSize\": \"0\",\n",
      "        \"executionType\": \"LIMIT\",\n",
      "        \"losscutPrice\": \"0\",\n",
      "        \"orderId\": 3589143121,\n",
      "        \"orderType\": \"NORMAL\",\n",
      "        \"price\": \"3652000\",\n",
      "        \"rootOrderId\": 3589143121,\n",
      "        \"settleType\": \"CLOSE\",\n",
      "        \"side\": \"SELL\",\n",
      "        \"size\": \"0.0007\",\n",
      "        \"status\": \"ORDERED\",\n",
      "        \"symbol\": \"BTC\",\n",
      "        \"timeInForce\": \"FAS\",\n",
      "        \"timestamp\": \"2023-06-13T23:59:28.436000Z\"\n",
      "      }\n",
      "    ],\n",
      "    \"pagination\": {\n",
      "      \"count\": 10,\n",
      "      \"currentPage\": 1\n",
      "    }\n",
      "  },\n",
      "  \"responsetime\": \"2023-06-14T01:57:51.821000Z\"\n",
      "}\n"
     ]
    }
   ],
   "source": [
    "import json\n",
    "from datetime import datetime, timedelta\n",
    "\n",
    "data = {\n",
    "  \"status\": 0,\n",
    "  \"data\": {\n",
    "    \"list\": [\n",
    "      {\n",
    "        \"executedSize\": \"0\",\n",
    "        \"executionType\": \"LIMIT\",\n",
    "        \"losscutPrice\": \"0\",\n",
    "        \"orderId\": 3589275589,\n",
    "        \"orderType\": \"NORMAL\",\n",
    "        \"price\": \"3609500\",\n",
    "        \"rootOrderId\": 3589275589,\n",
    "        \"settleType\": \"OPEN\",\n",
    "        \"side\": \"BUY\",\n",
    "        \"size\": \"0.0007\",\n",
    "        \"status\": \"ORDERED\",\n",
    "        \"symbol\": \"BTC\",\n",
    "        \"timeInForce\": \"FAS\",\n",
    "        \"timestamp\": \"2023-06-13T16:00:17.154Z\"\n",
    "      },\n",
    "      {\n",
    "        \"executedSize\": \"0\",\n",
    "        \"executionType\": \"LIMIT\",\n",
    "        \"losscutPrice\": \"0\",\n",
    "        \"orderId\": 3589143121,\n",
    "        \"orderType\": \"NORMAL\",\n",
    "        \"price\": \"3652000\",\n",
    "        \"rootOrderId\": 3589143121,\n",
    "        \"settleType\": \"CLOSE\",\n",
    "        \"side\": \"SELL\",\n",
    "        \"size\": \"0.0007\",\n",
    "        \"status\": \"ORDERED\",\n",
    "        \"symbol\": \"BTC\",\n",
    "        \"timeInForce\": \"FAS\",\n",
    "        \"timestamp\": \"2023-06-13T14:59:28.436Z\"\n",
    "      }\n",
    "    ],\n",
    "    \"pagination\": {\n",
    "      \"count\": 10,\n",
    "      \"currentPage\": 1\n",
    "    }\n",
    "  },\n",
    "  \"responsetime\": \"2023-06-13T16:57:51.821Z\"\n",
    "}\n",
    "\n",
    "# \"timestamp\"の修正\n",
    "for item in data[\"data\"][\"list\"]:\n",
    "    timestamp = datetime.fromisoformat(item[\"timestamp\"].rstrip(\"Z\"))\n",
    "    corrected_timestamp = timestamp + timedelta(hours=9)\n",
    "    item[\"timestamp\"] = corrected_timestamp.strftime(\"%Y-%m-%dT%H:%M:%S.%f\") + \"Z\"\n",
    "\n",
    "# \"responsetime\"の修正\n",
    "responsetime = datetime.fromisoformat(data[\"responsetime\"].rstrip(\"Z\"))\n",
    "corrected_responsetime = responsetime + timedelta(hours=9)\n",
    "data[\"responsetime\"] = corrected_responsetime.strftime(\"%Y-%m-%dT%H:%M:%S.%f\") + \"Z\"\n",
    "\n",
    "# 修正結果を出力\n",
    "print(json.dumps(data, indent=2))\n"
   ]
  },
  {
   "cell_type": "code",
   "execution_count": 23,
   "metadata": {},
   "outputs": [
    {
     "name": "stdout",
     "output_type": "stream",
     "text": [
      "<class 'dict'>\n"
     ]
    }
   ],
   "source": [
    "print(type(data))"
   ]
  },
  {
   "cell_type": "code",
   "execution_count": 1,
   "metadata": {},
   "outputs": [
    {
     "name": "stdout",
     "output_type": "stream",
     "text": [
      "<class 'dict'>\n"
     ]
    }
   ],
   "source": [
    "content = {'channel': 'ticker', 'ask': '3644800', 'bid': '3643600', 'high': '3652300', 'last': '3644800', 'low': '3628316', 'symbol': 'BTC', 'timestamp': '2023-06-14T11:47:23.140Z', 'volume': '181.7572'}\n",
    "print(type(content))"
   ]
  },
  {
   "cell_type": "code",
   "execution_count": 3,
   "metadata": {},
   "outputs": [
    {
     "name": "stdout",
     "output_type": "stream",
     "text": [
      "<class 'str'> 2023-06-14T11:47:23.140Z\n"
     ]
    }
   ],
   "source": [
    "import datetime\n",
    "\n",
    "print(type(content['timestamp']),content['timestamp'])"
   ]
  },
  {
   "cell_type": "code",
   "execution_count": 4,
   "metadata": {},
   "outputs": [
    {
     "name": "stdout",
     "output_type": "stream",
     "text": [
      "<class 'str'> 2023-06-14T02:47:23.140000Z\n"
     ]
    }
   ],
   "source": [
    "from datetime import datetime, timedelta\n",
    "\n",
    "timestamp_str = content['timestamp']\n",
    "timestamp = datetime.fromisoformat(timestamp_str[:-1])\n",
    "new_timestamp = timestamp + timedelta(hours=9)\n",
    "new_timestamp_str = new_timestamp.strftime(\"%Y-%m-%dT%H:%M:%S.%fZ\")\n",
    "\n",
    "print(type(new_timestamp_str), new_timestamp_str)"
   ]
  },
  {
   "cell_type": "code",
   "execution_count": 6,
   "metadata": {},
   "outputs": [
    {
     "data": {
      "text/plain": [
       "'2023-06-14T11:47:23.140'"
      ]
     },
     "execution_count": 6,
     "metadata": {},
     "output_type": "execute_result"
    }
   ],
   "source": [
    "timestamp_str[:-1]"
   ]
  },
  {
   "cell_type": "code",
   "execution_count": 7,
   "metadata": {},
   "outputs": [
    {
     "data": {
      "text/plain": [
       "'2023-06-14T11:47:23.140Z'"
      ]
     },
     "execution_count": 7,
     "metadata": {},
     "output_type": "execute_result"
    }
   ],
   "source": [
    "timestamp_str"
   ]
  },
  {
   "cell_type": "code",
   "execution_count": 9,
   "metadata": {},
   "outputs": [
    {
     "name": "stdout",
     "output_type": "stream",
     "text": [
      "<class 'dict'>\n",
      "{'asks': [{'price': '3641352', 'size': '0.3196'},\n",
      "          {'price': '3641385', 'size': '0.0119'},\n",
      "          {'price': '3641450', 'size': '0.0114'},\n",
      "          {'price': '3642088', 'size': '0.0601'},\n",
      "          {'price': '3642800', 'size': '0.0011'},\n",
      "          {'price': '3642860', 'size': '0.02'},\n",
      "          {'price': '3643630', 'size': '0.5'},\n",
      "          {'price': '3644580', 'size': '0.03'},\n",
      "          {'price': '3644770', 'size': '0.02'},\n",
      "          {'price': '3644960', 'size': '0.01'},\n",
      "          {'price': '3645084', 'size': '0.0001'},\n",
      "          {'price': '3645150', 'size': '0.01'},\n",
      "          {'price': '3645340', 'size': '0.5'},\n",
      "          {'price': '3645492', 'size': '0.04'},\n",
      "          {'price': '3645720', 'size': '0.0054'},\n",
      "          {'price': '3645910', 'size': '0.0786'},\n",
      "          {'price': '3646000', 'size': '0.0005'},\n",
      "          {'price': '3646100', 'size': '0.0502'},\n",
      "          {'price': '3646248', 'size': '0.04'},\n",
      "          {'price': '3646480', 'size': '0.5'},\n",
      "          {'price': '3646670', 'size': '0.5'},\n",
      "          {'price': '3646860', 'size': '0.5299'},\n",
      "          {'price': '3647050', 'size': '0.1562'},\n",
      "          {'price': '3647240', 'size': '0.0502'},\n",
      "          {'price': '3647430', 'size': '0.5'},\n",
      "          {'price': '3648000', 'size': '0.0507'},\n",
      "          {'price': '3648189', 'size': '0.0001'},\n",
      "          {'price': '3648190', 'size': '0.0669'},\n",
      "          {'price': '3648192', 'size': '0.0002'},\n",
      "          {'price': '3648570', 'size': '0.0113'}],\n",
      " 'bids': [{'price': '3641351', 'size': '0.0005'},\n",
      "          {'price': '3641350', 'size': '0.0101'},\n",
      "          {'price': '3641150', 'size': '0.082'},\n",
      "          {'price': '3640502', 'size': '0.0038'},\n",
      "          {'price': '3640021', 'size': '0.1'},\n",
      "          {'price': '3640000', 'size': '0.0023'},\n",
      "          {'price': '3639101', 'size': '0.01'},\n",
      "          {'price': '3639100', 'size': '0.0014'},\n",
      "          {'price': '3639036', 'size': '0.0097'},\n",
      "          {'price': '3639000', 'size': '0.005'},\n",
      "          {'price': '3638973', 'size': '0.0014'},\n",
      "          {'price': '3638891', 'size': '0.05'},\n",
      "          {'price': '3638783', 'size': '0.0029'},\n",
      "          {'price': '3638528', 'size': '0.02'},\n",
      "          {'price': '3638152', 'size': '0.02'},\n",
      "          {'price': '3637684', 'size': '0.15'},\n",
      "          {'price': '3637679', 'size': '0.02'},\n",
      "          {'price': '3637037', 'size': '0.2'},\n",
      "          {'price': '3637016', 'size': '0.0057'},\n",
      "          {'price': '3637000', 'size': '0.1001'},\n",
      "          {'price': '3636524', 'size': '0.04'},\n",
      "          {'price': '3636360', 'size': '0.01'},\n",
      "          {'price': '3636232', 'size': '0.0057'},\n",
      "          {'price': '3636014', 'size': '0.02'},\n",
      "          {'price': '3636000', 'size': '0.001'},\n",
      "          {'price': '3635990', 'size': '0.0037'},\n",
      "          {'price': '3635771', 'size': '0.04'},\n",
      "          {'price': '3635000', 'size': '0.0081'},\n",
      "          {'price': '3634442', 'size': '0.0029'},\n",
      "          {'price': '3634000', 'size': '0.0005'}],\n",
      " 'channel': 'orderbooks',\n",
      " 'grouping': '1',\n",
      " 'symbol': 'BTC',\n",
      " 'timestamp': '2023-06-14T12:46:51.668Z'}\n"
     ]
    }
   ],
   "source": [
    "board = {\"channel\":\"orderbooks\",\"asks\":[{\"price\":\"3641352\",\"size\":\"0.3196\"},{\"price\":\"3641385\",\"size\":\"0.0119\"},{\"price\":\"3641450\",\"size\":\"0.0114\"},{\"price\":\"3642088\",\"size\":\"0.0601\"},{\"price\":\"3642800\",\"size\":\"0.0011\"},{\"price\":\"3642860\",\"size\":\"0.02\"},{\"price\":\"3643630\",\"size\":\"0.5\"},{\"price\":\"3644580\",\"size\":\"0.03\"},{\"price\":\"3644770\",\"size\":\"0.02\"},{\"price\":\"3644960\",\"size\":\"0.01\"},{\"price\":\"3645084\",\"size\":\"0.0001\"},{\"price\":\"3645150\",\"size\":\"0.01\"},{\"price\":\"3645340\",\"size\":\"0.5\"},{\"price\":\"3645492\",\"size\":\"0.04\"},{\"price\":\"3645720\",\"size\":\"0.0054\"},{\"price\":\"3645910\",\"size\":\"0.0786\"},{\"price\":\"3646000\",\"size\":\"0.0005\"},{\"price\":\"3646100\",\"size\":\"0.0502\"},{\"price\":\"3646248\",\"size\":\"0.04\"},{\"price\":\"3646480\",\"size\":\"0.5\"},{\"price\":\"3646670\",\"size\":\"0.5\"},{\"price\":\"3646860\",\"size\":\"0.5299\"},{\"price\":\"3647050\",\"size\":\"0.1562\"},{\"price\":\"3647240\",\"size\":\"0.0502\"},{\"price\":\"3647430\",\"size\":\"0.5\"},{\"price\":\"3648000\",\"size\":\"0.0507\"},{\"price\":\"3648189\",\"size\":\"0.0001\"},{\"price\":\"3648190\",\"size\":\"0.0669\"},{\"price\":\"3648192\",\"size\":\"0.0002\"},{\"price\":\"3648570\",\"size\":\"0.0113\"}],\"bids\":[{\"price\":\"3641351\",\"size\":\"0.0005\"},{\"price\":\"3641350\",\"size\":\"0.0101\"},{\"price\":\"3641150\",\"size\":\"0.082\"},{\"price\":\"3640502\",\"size\":\"0.0038\"},{\"price\":\"3640021\",\"size\":\"0.1\"},{\"price\":\"3640000\",\"size\":\"0.0023\"},{\"price\":\"3639101\",\"size\":\"0.01\"},{\"price\":\"3639100\",\"size\":\"0.0014\"},{\"price\":\"3639036\",\"size\":\"0.0097\"},{\"price\":\"3639000\",\"size\":\"0.005\"},{\"price\":\"3638973\",\"size\":\"0.0014\"},{\"price\":\"3638891\",\"size\":\"0.05\"},{\"price\":\"3638783\",\"size\":\"0.0029\"},{\"price\":\"3638528\",\"size\":\"0.02\"},{\"price\":\"3638152\",\"size\":\"0.02\"},{\"price\":\"3637684\",\"size\":\"0.15\"},{\"price\":\"3637679\",\"size\":\"0.02\"},{\"price\":\"3637037\",\"size\":\"0.2\"},{\"price\":\"3637016\",\"size\":\"0.0057\"},{\"price\":\"3637000\",\"size\":\"0.1001\"},{\"price\":\"3636524\",\"size\":\"0.04\"},{\"price\":\"3636360\",\"size\":\"0.01\"},{\"price\":\"3636232\",\"size\":\"0.0057\"},{\"price\":\"3636014\",\"size\":\"0.02\"},{\"price\":\"3636000\",\"size\":\"0.001\"},{\"price\":\"3635990\",\"size\":\"0.0037\"},{\"price\":\"3635771\",\"size\":\"0.04\"},{\"price\":\"3635000\",\"size\":\"0.0081\"},{\"price\":\"3634442\",\"size\":\"0.0029\"},{\"price\":\"3634000\",\"size\":\"0.0005\"}],\"symbol\":\"BTC\",\"timestamp\":\"2023-06-14T12:46:51.668Z\",\"grouping\":\"1\"}\n",
    "\n",
    "import pprint\n",
    "\n",
    "print(type(board))\n",
    "pprint.pprint(board)"
   ]
  },
  {
   "cell_type": "code",
   "execution_count": 17,
   "metadata": {},
   "outputs": [
    {
     "data": {
      "text/plain": [
       "[{'price': '3641352', 'size': '0.3196'},\n",
       " {'price': '3641385', 'size': '0.0119'},\n",
       " {'price': '3641450', 'size': '0.0114'},\n",
       " {'price': '3642088', 'size': '0.0601'},\n",
       " {'price': '3642800', 'size': '0.0011'},\n",
       " {'price': '3642860', 'size': '0.02'},\n",
       " {'price': '3643630', 'size': '0.5'},\n",
       " {'price': '3644580', 'size': '0.03'},\n",
       " {'price': '3644770', 'size': '0.02'},\n",
       " {'price': '3644960', 'size': '0.01'}]"
      ]
     },
     "execution_count": 17,
     "metadata": {},
     "output_type": "execute_result"
    }
   ],
   "source": [
    "board[\"asks\"][:10]"
   ]
  },
  {
   "cell_type": "code",
   "execution_count": null,
   "metadata": {},
   "outputs": [],
   "source": []
  }
 ],
 "metadata": {
  "kernelspec": {
   "display_name": "base",
   "language": "python",
   "name": "python3"
  },
  "language_info": {
   "codemirror_mode": {
    "name": "ipython",
    "version": 3
   },
   "file_extension": ".py",
   "mimetype": "text/x-python",
   "name": "python",
   "nbconvert_exporter": "python",
   "pygments_lexer": "ipython3",
   "version": "3.10.11"
  },
  "orig_nbformat": 4
 },
 "nbformat": 4,
 "nbformat_minor": 2
}
